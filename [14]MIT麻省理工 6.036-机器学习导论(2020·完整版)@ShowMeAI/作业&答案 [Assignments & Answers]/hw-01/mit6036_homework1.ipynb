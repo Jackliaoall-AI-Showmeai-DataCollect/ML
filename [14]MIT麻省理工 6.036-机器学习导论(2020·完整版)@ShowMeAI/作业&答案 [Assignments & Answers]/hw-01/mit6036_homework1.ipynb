{
  "nbformat": 4,
  "nbformat_minor": 0,
  "metadata": {
    "colab": {
      "name": "Homework 1.ipynb",
      "provenance": [],
      "collapsed_sections": [],
      "include_colab_link": true
    },
    "kernelspec": {
      "name": "python3",
      "display_name": "Python 3"
    }
  },
  "cells": [
    {
      "cell_type": "markdown",
      "metadata": {
        "id": "view-in-github",
        "colab_type": "text"
      },
      "source": [
        "<a href=\"https://colab.research.google.com/github/ankile/MIT6.036-Intro-Machine-Learning/blob/master/hw-01/mit6036_homework1.ipynb\" target=\"_parent\"><img src=\"https://colab.research.google.com/assets/colab-badge.svg\" alt=\"Open In Colab\"/></a>"
      ]
    },
    {
      "cell_type": "markdown",
      "metadata": {
        "id": "HYV_oPy1jkts",
        "colab_type": "text"
      },
      "source": [
        "# Home work 1"
      ]
    },
    {
      "cell_type": "markdown",
      "metadata": {
        "id": "jnPQEzTzjn5B",
        "colab_type": "text"
      },
      "source": [
        "## Some code snippets made to aid in solving homework 1"
      ]
    },
    {
      "cell_type": "markdown",
      "metadata": {
        "id": "gZ6by_mRjxkC",
        "colab_type": "text"
      },
      "source": [
        "### Helping function"
      ]
    },
    {
      "cell_type": "code",
      "metadata": {
        "id": "ZqDX7dPoPDly",
        "colab_type": "code",
        "colab": {}
      },
      "source": [
        "def rv(value_list):\n",
        "    return np.array([value_list])\n"
      ],
      "execution_count": 0,
      "outputs": []
    },
    {
      "cell_type": "markdown",
      "metadata": {
        "id": "fPEUCt_7C2qa",
        "colab_type": "text"
      },
      "source": [
        "### 1.6 Length"
      ]
    },
    {
      "cell_type": "code",
      "metadata": {
        "id": "lBK9y6sKCf3l",
        "colab_type": "code",
        "outputId": "f67897b7-97ca-425b-ff63-1505a19c1c3b",
        "colab": {
          "base_uri": "https://localhost:8080/",
          "height": 51
        }
      },
      "source": [
        "import numpy as np\n",
        "\n",
        "def length(col_v):\n",
        "    return np.sqrt(np.dot(col_v.T, col_v))[0][0]\n",
        "\n",
        "v = np.array([[1, 2, 3]]).T\n",
        "print(np.dot(v.T, v))\n",
        "length(v)"
      ],
      "execution_count": 0,
      "outputs": [
        {
          "output_type": "stream",
          "text": [
            "[[14]]\n"
          ],
          "name": "stdout"
        },
        {
          "output_type": "execute_result",
          "data": {
            "text/plain": [
              "3.7416573867739413"
            ]
          },
          "metadata": {
            "tags": []
          },
          "execution_count": 25
        }
      ]
    },
    {
      "cell_type": "markdown",
      "metadata": {
        "id": "m_l2O8zyJWQ8",
        "colab_type": "text"
      },
      "source": [
        "### 2.2a Distance"
      ]
    },
    {
      "cell_type": "code",
      "metadata": {
        "id": "X5TXcKqRDAxE",
        "colab_type": "code",
        "outputId": "64de1e87-d621-4f66-a22d-5129dbce2e79",
        "colab": {
          "base_uri": "https://localhost:8080/",
          "height": 34
        }
      },
      "source": [
        "theta = np.array([[3, 4]]).T\n",
        "theta_0 = 5\n",
        "\n",
        "# P = np.array([[-5/3, 0]]).T\n",
        "P = np.\n",
        "\n",
        "\n",
        "-np.dot(theta.T, P) / np.linalg.norm(theta)"
      ],
      "execution_count": 0,
      "outputs": [
        {
          "output_type": "execute_result",
          "data": {
            "text/plain": [
              "array([[1.]])"
            ]
          },
          "metadata": {
            "tags": []
          },
          "execution_count": 27
        }
      ]
    },
    {
      "cell_type": "markdown",
      "metadata": {
        "id": "53HSa9dhOLEV",
        "colab_type": "text"
      },
      "source": [
        "### 2.8 Best separator"
      ]
    },
    {
      "cell_type": "code",
      "metadata": {
        "id": "s4Rhwj2ISlfB",
        "colab_type": "code",
        "colab": {}
      },
      "source": [
        "def length(col_v):\n",
        "    return np.sqrt(np.dot(col_v.T, col_v))[0][0]\n"
      ],
      "execution_count": 0,
      "outputs": []
    },
    {
      "cell_type": "code",
      "metadata": {
        "id": "sZtJzrRrSe-4",
        "colab_type": "code",
        "colab": {}
      },
      "source": [
        "def signed_dist(x, th, th0):\n",
        "    return (np.dot(th.T, x) + th0) / length(th)\n"
      ],
      "execution_count": 0,
      "outputs": []
    },
    {
      "cell_type": "code",
      "metadata": {
        "id": "4KeEkznyScQs",
        "colab_type": "code",
        "colab": {}
      },
      "source": [
        "def positive(x, th, th0):\n",
        "    dist = signed_dist(x, th, th0)\n",
        "    return np.sign(dist)\n"
      ],
      "execution_count": 0,
      "outputs": []
    },
    {
      "cell_type": "code",
      "metadata": {
        "id": "1ZpgO6bfPOAS",
        "colab_type": "code",
        "colab": {}
      },
      "source": [
        "def score(data, labels, th, th0):\n",
        "    return np.sum(positive(data, th, th0) == labels)\n"
      ],
      "execution_count": 0,
      "outputs": []
    },
    {
      "cell_type": "code",
      "metadata": {
        "id": "ZSLp8-FfY4Oc",
        "colab_type": "code",
        "colab": {}
      },
      "source": [
        "data = np.transpose(np.array([[1, 2], [1, 3], [2, 1], [1, -1], [2, -1]]))\n",
        "labels = rv([-1, -1, +1, +1, +1])\n",
        "\n",
        "ths = np.array([[1, 2], [2, 1], [2, 2]]).T\n",
        "th0s = np.array([[1, 2, 3]])\n"
      ],
      "execution_count": 0,
      "outputs": []
    },
    {
      "cell_type": "code",
      "metadata": {
        "id": "6zdXJLOGOKd_",
        "colab_type": "code",
        "colab": {}
      },
      "source": [
        "def best_separator(data, labels, ths, th0s):\n",
        "  best_score = 0\n",
        "  best_theta = tuple()\n",
        "\n",
        "  for i in range(ths.shape[1]):\n",
        "    s = score(data, labels, ths[:,i:i+1], th0s[:,i:i+1])\n",
        "    if s > best_score:\n",
        "      best_score = s\n",
        "      best_theta = (ths[:,i:i+1], th0s[:,i:i+1])\n",
        "\n",
        "  return best_theta\n",
        "\n",
        "\n",
        "best_separator(data, labels, ths, th0s)\n",
        "\n"
      ],
      "execution_count": 0,
      "outputs": []
    },
    {
      "cell_type": "code",
      "metadata": {
        "id": "mPkStMfhO9v0",
        "colab_type": "code",
        "colab": {}
      },
      "source": [
        "def get_score(col):\n",
        "  return score(data, labels, np.array([col[:-1]]).T, np.array([col[-1:]]))\n",
        "\n",
        "def best_separator(data, labels, ths, th0s):\n",
        "  thetas = np.concatenate((ths, th0s), axis=0)\n",
        "  best_index = np.argmax(np.apply_along_axis(get_score, axis=0, thetas))\n",
        "  return (ths[:,best_index:best_index+1], th0s[:,best_index:best_index+1])\n"
      ],
      "execution_count": 0,
      "outputs": []
    },
    {
      "cell_type": "code",
      "metadata": {
        "id": "Y4ysmHY8ZPcE",
        "colab_type": "code",
        "outputId": "4699bc59-7ed3-405b-9524-62d0873b2651",
        "colab": {
          "base_uri": "https://localhost:8080/",
          "height": 102
        }
      },
      "source": [
        "best_separator(data, labels, ths, th0s)"
      ],
      "execution_count": 0,
      "outputs": [
        {
          "output_type": "stream",
          "text": [
            "x [1 2 1]\n",
            "x [2 1 2]\n",
            "x [2 2 3]\n"
          ],
          "name": "stdout"
        },
        {
          "output_type": "execute_result",
          "data": {
            "text/plain": [
              "(array([[2],\n",
              "        [1]]), array([[2]]))"
            ]
          },
          "metadata": {
            "tags": []
          },
          "execution_count": 90
        }
      ]
    },
    {
      "cell_type": "code",
      "metadata": {
        "id": "j-xrHVBulPEz",
        "colab_type": "code",
        "colab": {}
      },
      "source": [
        ""
      ],
      "execution_count": 0,
      "outputs": []
    }
  ]
}