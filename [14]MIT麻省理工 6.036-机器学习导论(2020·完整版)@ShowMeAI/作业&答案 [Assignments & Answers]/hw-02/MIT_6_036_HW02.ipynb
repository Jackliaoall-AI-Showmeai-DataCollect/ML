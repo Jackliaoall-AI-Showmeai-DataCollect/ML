{
  "nbformat": 4,
  "nbformat_minor": 0,
  "metadata": {
    "colab": {
      "name": "MIT 6.036 HW02",
      "provenance": [],
      "collapsed_sections": [],
      "include_colab_link": true
    },
    "kernelspec": {
      "name": "python3",
      "display_name": "Python 3"
    }
  },
  "cells": [
    {
      "cell_type": "markdown",
      "metadata": {
        "id": "view-in-github",
        "colab_type": "text"
      },
      "source": [
        "<a href=\"https://colab.research.google.com/github/ankile/MIT6.036-Intro-Machine-Learning/blob/master/hw-02/MIT_6_036_HW02.ipynb\" target=\"_parent\"><img src=\"https://colab.research.google.com/assets/colab-badge.svg\" alt=\"Open In Colab\"/></a>"
      ]
    },
    {
      "cell_type": "markdown",
      "metadata": {
        "id": "_xIaEwCD406A",
        "colab_type": "text"
      },
      "source": [
        "#MIT 6.036 Spring 2020: Homework 2#\n",
        "\n",
        "This colab notebook provides code and a framework for problems 8-10 of the homework.  You can work out your solutions here, then submit your results back on the homework page when ready.\n",
        "\n",
        "## <section>**Setup**</section>\n",
        "\n",
        "First, download the code distribution for this homework that contains test cases and helper functions (such as `positive`).\n",
        "\n",
        "Run the next code block to download and import the code for this lab.\n"
      ]
    },
    {
      "cell_type": "code",
      "metadata": {
        "id": "2YM-_zLf9Bp-",
        "colab_type": "code",
        "outputId": "3f57d6af-c235-4de6-ecfb-ab492c409b84",
        "colab": {
          "base_uri": "https://localhost:8080/",
          "height": 238
        }
      },
      "source": [
        "!rm -f code_for_hw02.py*\n",
        "!wget --quiet https://introml.odl.mit.edu/cat-soop/_static/6.036/homework/hw02/code_for_hw02.py\n",
        "from code_for_hw02 import *\n",
        "import numpy as np"
      ],
      "execution_count": 2,
      "outputs": [
        {
          "output_type": "stream",
          "text": [
            "Importing code_for_hw02\n",
            "New procedures added: tidy_plot, plot_separator, plot_data, plot_nonlin_sep, cv,\n",
            "                      rv, positive, score\n",
            "Data Sets: super_simple_separable_through_origin(), super_simple_separable(), xor(),\n",
            "           xor_more()\n",
            "Test data for problem 2.1: data1, labels1, data2, labels2\n",
            "Test data for problem 2.2: big_data, big_data_labels, gen_big_data(), gen_lin_separable(),\n",
            "                           big_higher_dim_separable(), gen_flipped_lin_separable()\n",
            "Test functions: test_linear_classifier(), test_perceptron(), test_averaged_perceptron(),\n",
            "                test_eval_classifier(), test_eval_learning_alg(), test_xval_learning_alg()\n",
            "\n",
            "For more information, use 'help', e.g. 'help tidy_plot'\n",
            "Done with import of code_for_hw02\n"
          ],
          "name": "stdout"
        }
      ]
    },
    {
      "cell_type": "markdown",
      "metadata": {
        "id": "_bhI4dQB1-UZ",
        "colab_type": "text"
      },
      "source": [
        "# 8) Implement Perceptron\n",
        "\n",
        "Implement [the Perceptron algorithm](https://lms.mitx.mit.edu/courses/course-v1:MITx+6.036+2020_Spring/courseware/Week2/perceptron/2), where\n",
        "\n",
        "* `data` is a numpy array of dimension $d$ by $n$\n",
        "* `labels` is numpy array of dimension $1$ by $n$\n",
        "* `params` is a dictionary specifying extra parameters to this algorithm; your algorithm should run a number of iterations equal to $T$\n",
        "* `hook` is either `None` or a function that takes the tuple `(th, th0)` as an argument and displays the separator graphically.  We won't be testing this in the Tutor, but it will help you in debugging on your own machine.\n",
        "\n",
        "It should return a tuple of $\\theta$ (a $d$ by 1 array) and $\\theta_0$ (a 1 by 1 array).\n",
        "\n",
        "We have given you some  data sets in the code file for you to test your implementation. Below are some test cases.\n",
        "```\n",
        "# Test Case 1\n",
        ">>> data = np.array([[2, 3, 9, 12],\n",
        "                     [5, 2, 6, 5]])\n",
        ">>> labels = np.array([[1, -1, 1, -1]])\n",
        ">>> [x.tolist() for x in perceptron(data, labels, {\"T\": 100})]\n",
        "[[[-24.0], [37.0]], [[-3.0]]]\n",
        "\n",
        "# Test Case 2\n",
        ">>> data = np.array([[1, 2, 1, 2],\n",
        "                     [1, 2, 2, 1]])\n",
        ">>> labels = np.array([[1, 1, -1, -1]])\n",
        ">>> [x.tolist() for x in perceptron(data, labels, {\"T\": 100})]\n",
        "[[[0.0], [-3.0]], [[0.0]]]\n",
        "```\n",
        "\n",
        "Your function should initialize any parameters defined in the function to 0, then run through the data, in the order it is given, performing an update to the parameters whenever the current parameters would make a mistake on that data point. Perform `T` iterations through the data. After every parameter update, if `hook` is defined, call it on the current `(th, th0)` (as a single parameter in a Python tuple)."
      ]
    },
    {
      "cell_type": "code",
      "metadata": {
        "id": "VtYf8ysk-VQU",
        "colab_type": "code",
        "colab": {}
      },
      "source": [
        "def perceptron(data, labels, params={}, hook=None):\n",
        "    d, n = data.shape\n",
        "\n",
        "    # if T not in params, default to 100\n",
        "    T = params.get('T', 100)\n",
        "    th = params.get('th', np.zeros((d,1)))\n",
        "    th0 = params.get('th0', np.array([[0]]))\n",
        "\n",
        "    data_list = np.array([data.T]).reshape((n, d, 1))\n",
        "    label_list = labels.reshape((n))\n",
        "\n",
        "    for t in range (T):\n",
        "      for x, y in zip(data_list, label_list):\n",
        "        if y * (np.dot(th.T, x) + th0) <= 0:\n",
        "          # Update the thetas\n",
        "          th = th + y * x\n",
        "          th0 = th0 + y\n",
        "\n",
        "          if hook is not None:\n",
        "            hook((th, th0))\n",
        "\n",
        "    return th, th0"
      ],
      "execution_count": 0,
      "outputs": []
    },
    {
      "cell_type": "code",
      "metadata": {
        "id": "a_5BSBG3oJQN",
        "colab_type": "code",
        "outputId": "088d518f-e4b3-432e-b516-db5b4923aa9a",
        "colab": {
          "base_uri": "https://localhost:8080/",
          "height": 282
        }
      },
      "source": [
        "# Manual test of the perceptron\n",
        "\n",
        "# Test Case 2\n",
        "data = np.array([[1, 2, 1, 2],\n",
        "                 [1, 2, 2, 1],\n",
        "                 [1, 2, 3, 1]])\n",
        "labels = np.array([[1, 1, -1, -1]])\n",
        "ax = plot_data(data, labels)\n",
        "[x.tolist() for x in perceptron(data, labels, params={\"T\": 100})]\n"
      ],
      "execution_count": 4,
      "outputs": [
        {
          "output_type": "execute_result",
          "data": {
            "text/plain": [
              "[[[-4.0], [19.0], [-16.0]], [[4]]]"
            ]
          },
          "metadata": {
            "tags": []
          },
          "execution_count": 4
        },
        {
          "output_type": "display_data",
          "data": {
            "image/png": "[encoded data removed]",
            "text/plain": [
              "<Figure size 432x288 with 1 Axes>"
            ]
          },
          "metadata": {
            "tags": []
          }
        }
      ]
    },
    {
      "cell_type": "code",
      "metadata": {
        "id": "BY_JnJkRqN59",
        "colab_type": "code",
        "colab": {
          "base_uri": "https://localhost:8080/",
          "height": 34
        },
        "outputId": "1fed0211-c1f7-4aa1-99d0-5d4de204f801"
      },
      "source": [
        "# Manual test of perceptron for big data\n",
        "[x.tolist() for x in perceptron(big_data, big_data_labels, params={\"T\": 100})]"
      ],
      "execution_count": 5,
      "outputs": [
        {
          "output_type": "execute_result",
          "data": {
            "text/plain": [
              "[[[2.0594504499999635], [2.6697753999999927]], [[-1.0]]]"
            ]
          },
          "metadata": {
            "tags": []
          },
          "execution_count": 5
        }
      ]
    },
    {
      "cell_type": "code",
      "metadata": {
        "id": "92r2oL42-yfM",
        "colab_type": "code",
        "outputId": "64284e05-1a50-44de-f762-344dd72d2f91",
        "colab": {
          "base_uri": "https://localhost:8080/",
          "height": 221
        }
      },
      "source": [
        "test_perceptron(perceptron)"
      ],
      "execution_count": 0,
      "outputs": [
        {
          "output_type": "stream",
          "text": [
            "Data: [[ 2  3  9 12]\n",
            " [ 5  1  6  5]]\n",
            "Labels: [[ 1 -1  1 -1]]\n",
            "-----------Test Perceptron 0-----------\n",
            "Passed! \n",
            "\n",
            "Data: [[1 2 1 2]\n",
            " [1 2 2 1]]\n",
            "Labels: [[ 1  1 -1 -1]]\n",
            "-----------Test Perceptron 1-----------\n",
            "Passed! \n",
            "\n"
          ],
          "name": "stdout"
        }
      ]
    },
    {
      "cell_type": "markdown",
      "metadata": {
        "id": "hQMcSWlmB4-Y",
        "colab_type": "text"
      },
      "source": [
        "# 9) Implement Averaged Perceptron\n",
        "\n",
        "Regular perceptron can be somewhat sensitive to the most recent examples that it sees. Instead, averaged perceptron produces a more stable output by outputting the average value of `th` and `th0` across all iterations.\n",
        "\n",
        "Below are some test cases.\n",
        "```\n",
        "# Test Case 1\n",
        ">>> data = np.array([[2, 3, 9, 12],\n",
        "                     [5, 2, 6, 5]])\n",
        ">>> labels = np.array([[1, -1, 1, -1]])\n",
        ">>> [x.tolist() for x in averaged_perceptron(data, labels, {\"T\": 100})]\n",
        "[[[-22.1925], [34.06]], [[-2.1725]]]\n",
        "\n",
        "# Test Case 2\n",
        ">>> data = np.array([[1, 2, 1, 2],\n",
        "                     [1, 2, 2, 1]])\n",
        ">>> labels = np.array([[1, 1, -1, -1]])\n",
        ">>> [x.tolist() for x in averaged_perceptron(data, labels, {\"T\": 100})]\n",
        "[[[1.47], [-1.7275]], [[0.985]]]\n",
        "```\n",
        "\n",
        "\n",
        "Implement averaged perceptron with the same spec as regular perceptron, and using the pseudocode below as a guide.\n",
        "\n",
        "<pre>\n",
        "procedure averaged_perceptron({(x^(i), y^(i)), i=1,...n}, T)\n",
        "    th = 0 (d by 1); th0 = 0 (1 by 1)\n",
        "    ths = 0 (d by 1); th0s = 0 (1 by 1)\n",
        "    for t = 1,...,T do:\n",
        "        for i = 1,...,n do:\n",
        "\t        if y^(i)(th . x^(i) + th0) <= 0 then\n",
        "              th = th + y^(i)x^(i)\n",
        "              th0 = th0 + y^(i)\n",
        "\t        ths = ths + th\n",
        "\t        th0s = th0s + th0\n",
        "    return ths/(nT), th0s/(nT)\n",
        "</pre>"
      ]
    },
    {
      "cell_type": "code",
      "metadata": {
        "id": "XAwW00MU_FzS",
        "colab_type": "code",
        "colab": {}
      },
      "source": [
        "def averaged_perceptron(data, labels, params={}, hook=None):\n",
        "    d, n = data.shape\n",
        "\n",
        "    # if T not in params, default to 100\n",
        "    T = params.get('T', 100)\n",
        "    th = params.get('th', np.zeros((d,1)))\n",
        "    th0 = params.get('th0', np.array([[0]]))\n",
        "    ths = np.zeros((d,1))\n",
        "    th0s = np.zeros((1, 1))\n",
        "\n",
        "    data_list = np.array([data.T]).reshape((n, d, 1))\n",
        "    label_list = labels.reshape((n))\n",
        "\n",
        "    for t in range (T):\n",
        "        for x, y in zip(data_list, label_list):\n",
        "            if y * (np.dot(th.T, x) + th0) <= 0:\n",
        "                # Update the thetas\n",
        "                th = th + y * x\n",
        "                th0 = th0 + y\n",
        "\n",
        "            if hook is not None:\n",
        "                hook((th, th0))\n",
        "\n",
        "            ths += th\n",
        "            th0s += th0\n",
        "\n",
        "    return ths / (n*T), th0s / (n*T)"
      ],
      "execution_count": 0,
      "outputs": []
    },
    {
      "cell_type": "code",
      "metadata": {
        "id": "kyLGH0_cBFSU",
        "colab_type": "code",
        "colab": {
          "base_uri": "https://localhost:8080/",
          "height": 119
        },
        "outputId": "43a3b20e-83c9-4602-d74b-cdb565a0a18d"
      },
      "source": [
        "test_averaged_perceptron(averaged_perceptron)"
      ],
      "execution_count": 10,
      "outputs": [
        {
          "output_type": "stream",
          "text": [
            "-----------Test Averaged Perceptron 0-----------\n",
            "Passed! \n",
            "\n",
            "-----------Test Averaged Perceptron 1-----------\n",
            "Passed! \n",
            "\n"
          ],
          "name": "stdout"
        }
      ]
    },
    {
      "cell_type": "markdown",
      "metadata": {
        "id": "NTfGq7LNGceQ",
        "colab_type": "text"
      },
      "source": [
        "# 10) Implement Evaluation Strategies\n",
        "  \n",
        "## 10.1)  Evaluating a Classifier\n",
        "\n",
        "To evaluate a classifier, we are interested in how well it performs on data that it wasn't trained on. Construct a testing procedure that uses a training data set, calls a learning algorithm to get a linear separator (a tuple of $\\theta, \\theta_0$), and then reports the percentage correct on a new testing set as a float between $0.0$ and $1.0$.\n",
        "\n",
        "The learning algorithm is passed as a function that takes a data array and a labels vector.  Your evaluator should be able to interchangeably evaluate `perceptron` or `averaged_perceptron` (or future algorithms with the same spec), depending on what is passed through the `learner` parameter.\n",
        "\n",
        "Assume that you have available the function `score` from HW 1, which takes inputs:\n",
        "\n",
        "* `data`: a `d` by `n` array of floats (representing `n` data points in `d` dimensions)\n",
        "* `labels`: a `1` by `n` array of elements in `(+1, -1)`, representing target labels\n",
        "* `th`: a `d` by `1` array of floats that together with `th0`, represents a hyperplane\n",
        "* `th0`: a single scalar or `1` by `1` array\n",
        "\n",
        "and returns a scalar number of data points that the separator correctly classified.\n",
        "\n",
        "The `eval_classifier` function should accept the following parameters:\n",
        "\n",
        "* `learner` - a function, such as `perceptron` or `averaged_perceptron`\n",
        "* `data_train` - training data\n",
        "* `labels_train` - training labels\n",
        "* `data_test` - test data\n",
        "* `labels_test` - test labels\n",
        "\n",
        "and returns the percentage correct on a new testing set as a float between $0.0$ and $1.0$.\n"
      ]
    },
    {
      "cell_type": "code",
      "metadata": {
        "id": "8sy28WhyUA1t",
        "colab_type": "code",
        "colab": {}
      },
      "source": [
        "# The function Score from HW 1\n",
        "def score(data, labels, th, th0):\n",
        "    return np.sum(positive(data, th, th0) == labels)"
      ],
      "execution_count": 0,
      "outputs": []
    },
    {
      "cell_type": "code",
      "metadata": {
        "id": "uSip1lfHBKaT",
        "colab_type": "code",
        "colab": {}
      },
      "source": [
        "def eval_classifier(learner, data_train, labels_train, data_test, labels_test):\n",
        "    _, n = data_test.shape\n",
        "    \n",
        "    th, th0 = learner(data_train, labels_train)\n",
        "\n",
        "    return score(data_test, labels_test, th, th0) / n"
      ],
      "execution_count": 0,
      "outputs": []
    },
    {
      "cell_type": "code",
      "metadata": {
        "id": "beHMGAb6BTu1",
        "colab_type": "code",
        "colab": {
          "base_uri": "https://localhost:8080/",
          "height": 119
        },
        "outputId": "c47ca368-677b-4e4f-a31f-cfb8cb076042"
      },
      "source": [
        "test_eval_classifier(eval_classifier, perceptron)"
      ],
      "execution_count": 23,
      "outputs": [
        {
          "output_type": "stream",
          "text": [
            "-----------Test Eval Classifier 0-----------\n",
            "Passed! \n",
            "\n",
            "-----------Test Eval Classifier 1-----------\n",
            "Passed! \n",
            "\n"
          ],
          "name": "stdout"
        }
      ]
    },
    {
      "cell_type": "markdown",
      "metadata": {
        "id": "-WPStky3GiJb",
        "colab_type": "text"
      },
      "source": [
        "## 10.2) Evaluating a Learning algorithm using a data source\n",
        "\n",
        "Construct a testing procedure that takes a learning algorithm and a data source as input and runs the learning algorithm multiple times, each time evaluating the resulting classifier as above. It should report the overall average classification accuracy.\n",
        "\n",
        "You can use our implementation of `eval_classifier` as above.\n",
        "\n",
        "Write the function `eval_learning_alg` that takes:\n",
        "\n",
        "* `learner` - a function, such as `perceptron` or `averaged_perceptron`\n",
        "* `data_gen` - a data generator, call it with a desired data set size; returns a tuple `(data, labels)`\n",
        "* `n_train` - the size of the learning sets\n",
        "* `n_test` - the size of the test sets\n",
        "* `it` - the number of iterations to average over\n",
        "\n",
        "and returns the average classification accuracy as a float between $0.0$ and $1.0$.\n",
        "\n",
        "**Note: Be sure to generate your training data and then testing data in that order, to ensure that the pseudo-randomly generated data matches that in the test code.**"
      ]
    },
    {
      "cell_type": "code",
      "metadata": {
        "id": "6qytb8giBXZq",
        "colab_type": "code",
        "colab": {}
      },
      "source": [
        "def eval_learning_alg(learner, data_gen, n_train, n_test, it, test_data=True):\n",
        "    score_sum = 0\n",
        "    for _ in range(it):\n",
        "        data_train, labels_train = data_gen(n_train)\n",
        "        if test_data:\n",
        "            data_test, labels_test = data_gen(n_test)\n",
        "        else:\n",
        "            data_test, labels_test = data_train, labels_train\n",
        "        \n",
        "        score_sum += eval_classifier(learner, data_train, labels_train, data_test, labels_test)\n",
        "    \n",
        "    return score_sum / it"
      ],
      "execution_count": 0,
      "outputs": []
    },
    {
      "cell_type": "code",
      "metadata": {
        "id": "uCZojUBJBb06",
        "colab_type": "code",
        "colab": {
          "base_uri": "https://localhost:8080/",
          "height": 68
        },
        "outputId": "2b2ea1db-db01-478b-b6b9-ab1f35df2af2"
      },
      "source": [
        "test_eval_learning_alg(eval_learning_alg, perceptron)"
      ],
      "execution_count": 25,
      "outputs": [
        {
          "output_type": "stream",
          "text": [
            "-----------Test Eval Learning Algo-----------\n",
            "Passed! \n",
            "\n"
          ],
          "name": "stdout"
        }
      ]
    },
    {
      "cell_type": "markdown",
      "metadata": {
        "id": "60u9G0QnGzv-",
        "colab_type": "text"
      },
      "source": [
        "## 10.3) Evaluating a Learning Algorithm With a Fixed Dataset\n",
        "\n",
        "Cross-validation is a strategy for evaluating a learning algorithm, using a single training set of size $n$. Cross-validation takes in a learning algorithm $L$, a fixed data set $\\mathcal{D}$, and a parameter $k$. It will run the learning algorithm $k$ different times, then evaluate the accuracy of the resulting classifier, and ultimately return the average of the accuracies over each of the $k$ \"runs\" of $L$. It is structured like this:\n",
        "\n",
        "<pre><code>divide D into k parts, as equally as possible;  call them D_i for i == 0 .. k-1\n",
        "# be sure the data is shuffled in case someone put all the positive examples first in the data!\n",
        "for j from 0 to k-1:\n",
        "    D_minus_j = union of all the datasets D_i, except for D_j\n",
        "    h_j = L(D_minus_j)\n",
        "    score_j = accuracy of h_j measured on D_j\n",
        "return average(score0, ..., score(k-1))</code></pre>\n",
        "\n",
        "So, each time, it trains on  $k−1$ of the pieces of the data set and tests the resulting hypothesis on the piece that was not used for training.\n",
        "\n",
        "When $k=n$, it is called *leave-one-out cross validation*.\n",
        "\n",
        "Implement cross validation **assuming that the input data is shuffled already** so that the positives and negatives are distributed randomly. If the size of the data does not evenly divide by k, split the data into `n % k` sub-arrays of size `n // k + 1` and the rest of size `n // k`. (Hint: You can use <a href=\"https://docs.scipy.org/doc/numpy/reference/generated/numpy.array_split.html\">np.array_split</a>\n",
        "and <a href=\"https://docs.scipy.org/doc/numpy/reference/generated/numpy.concatenate.html\">np.concatenate</a> with axis arguments to split and rejoin the data as you desire.)\n",
        "\n",
        "Note: In Python, `n//k` indicates integer division, e.g. `2//3 = 0` and `4//3 = 1`."
      ]
    },
    {
      "cell_type": "code",
      "metadata": {
        "id": "W5_iixOmBgR7",
        "colab_type": "code",
        "colab": {}
      },
      "source": [
        "def xval_learning_alg(learner, data, labels, k):\n",
        "    data_parts = np.array_split(data, k, axis=1)\n",
        "    label_parts = np.array_split(labels, k, axis=1)\n",
        "\n",
        "    k_sum = 0\n",
        "    for i in range(k):\n",
        "        data_train = np.concatenate((*data_parts[0:i], *data_parts[i+1:]), axis=1)\n",
        "        labels_train = np.concatenate((*label_parts[0:i], *label_parts[i+1:]), axis=1)\n",
        "        data_test = data_parts[i]\n",
        "        labels_test = label_parts[i]\n",
        "        k_sum += eval_classifier(learner, data_train, labels_train, data_test, labels_test)\n",
        "\n",
        "    return k_sum / k"
      ],
      "execution_count": 0,
      "outputs": []
    },
    {
      "cell_type": "code",
      "metadata": {
        "id": "iUiUgtMHBiZX",
        "colab_type": "code",
        "colab": {
          "base_uri": "https://localhost:8080/",
          "height": 68
        },
        "outputId": "fbc97ff7-0b15-4949-f6ab-b09df3f41f26"
      },
      "source": [
        "test_xval_learning_alg(xval_learning_alg, perceptron)"
      ],
      "execution_count": 73,
      "outputs": [
        {
          "output_type": "stream",
          "text": [
            "-----------Test Cross-eval Learning Algo-----------\n",
            "Passed! \n",
            "\n"
          ],
          "name": "stdout"
        }
      ]
    },
    {
      "cell_type": "markdown",
      "metadata": {
        "id": "crF8flfB3hr1",
        "colab_type": "text"
      },
      "source": [
        "## 11) Testing\n",
        "\n",
        "In this section, we compare the effectiveness of perceptron and averaged perceptron on some data that are not necessarily linearly separable.\n",
        "\n",
        "Use your `eval_learning_alg` and the `gen_flipped_lin_separable`\n",
        "function in the code file to evaluate the accuracy of `perceptron`\n",
        "vs. `averaged_perceptron`.  `gen_flipped_lin_separable` is a wrapper\n",
        "function that returns a generator - `flip_generator`, which can be\n",
        "called with an integer to return a data set and labels.  Note that this\n",
        "generates linearly separable data and then \"flips\" the labels with\n",
        "some specified probability (the argument `pflip`); so most of the\n",
        "results will not be linearly separable.  You can also **specifiy** `pflip`\n",
        "in the call to the generator wrapper function. At the\n",
        "bottom of the code distribution is an example.\n",
        "\n",
        "Run enough trials so that you can confidently predict the accuracy of\n",
        "these algorithms on new data from that same generator; assume\n",
        "training/test sets on the order of 20 points.  The Tutor will check\n",
        "that your answer is within `0.025` of the answer we got using the same\n",
        "generator."
      ]
    },
    {
      "cell_type": "code",
      "metadata": {
        "id": "CXFoptqiI6Aw",
        "colab_type": "code",
        "colab": {
          "base_uri": "https://localhost:8080/",
          "height": 34
        },
        "outputId": "cabdf5c3-b051-4c0c-f083-4dbb96f9f69e"
      },
      "source": [
        "# Example\n",
        "data_gen = gen_flipped_lin_separable(pflip=0.5)\n",
        "print(eval_learning_alg(perceptron, data_gen, n_train=20, n_test=20, it=5))"
      ],
      "execution_count": 66,
      "outputs": [
        {
          "output_type": "stream",
          "text": [
            "0.4800000000000001\n"
          ],
          "name": "stdout"
        }
      ]
    },
    {
      "cell_type": "markdown",
      "metadata": {
        "id": "VLiEbzbrdTHB",
        "colab_type": "text"
      },
      "source": [
        "### Test of perceptron with test data"
      ]
    },
    {
      "cell_type": "code",
      "metadata": {
        "id": "QRAR-LWBbz4N",
        "colab_type": "code",
        "colab": {
          "base_uri": "https://localhost:8080/",
          "height": 34
        },
        "outputId": "bb15e04c-1213-4b99-8ba0-bae9267c39c5"
      },
      "source": [
        "# Accuracy for Perceptron (with flip probability 0.1)\n",
        "generator1 = gen_flipped_lin_separable(pflip=0.1)\n",
        "eval_learning_alg(perceptron, generator1, n_train=20, n_test=20, it=100)"
      ],
      "execution_count": 67,
      "outputs": [
        {
          "output_type": "execute_result",
          "data": {
            "text/plain": [
              "0.7489999999999999"
            ]
          },
          "metadata": {
            "tags": []
          },
          "execution_count": 67
        }
      ]
    },
    {
      "cell_type": "code",
      "metadata": {
        "id": "8XN0b5bHbwsl",
        "colab_type": "code",
        "colab": {
          "base_uri": "https://localhost:8080/",
          "height": 34
        },
        "outputId": "70956cd8-28f7-46aa-9b55-5aa7b97e829f"
      },
      "source": [
        "# Accuracy for averaged Perceptron (with flip probability 0.1)\n",
        "eval_learning_alg(averaged_perceptron, generator1, n_train=20, n_test=20, it=100)"
      ],
      "execution_count": 68,
      "outputs": [
        {
          "output_type": "execute_result",
          "data": {
            "text/plain": [
              "0.7794999999999999"
            ]
          },
          "metadata": {
            "tags": []
          },
          "execution_count": 68
        }
      ]
    },
    {
      "cell_type": "code",
      "metadata": {
        "id": "ZxPRjgS3b3ZB",
        "colab_type": "code",
        "colab": {
          "base_uri": "https://localhost:8080/",
          "height": 34
        },
        "outputId": "a9fa8be0-5b7f-4259-8998-4d6f0637044f"
      },
      "source": [
        "# Accuracy for Perceptron (with flip probability 0.25)\n",
        "generator2 = gen_flipped_lin_separable(pflip=0.25)\n",
        "eval_learning_alg(perceptron, generator2, n_train=20, n_test=20, it=100)"
      ],
      "execution_count": 69,
      "outputs": [
        {
          "output_type": "execute_result",
          "data": {
            "text/plain": [
              "0.6075000000000002"
            ]
          },
          "metadata": {
            "tags": []
          },
          "execution_count": 69
        }
      ]
    },
    {
      "cell_type": "code",
      "metadata": {
        "id": "ZE_zCH8tb3vO",
        "colab_type": "code",
        "colab": {
          "base_uri": "https://localhost:8080/",
          "height": 34
        },
        "outputId": "20be82e5-2d49-4f69-d48b-ebc7dff869ef"
      },
      "source": [
        "# Accuracy for averaged Perceptron (with flip probability 0.25)\n",
        "eval_learning_alg(averaged_perceptron, generator2, n_train=20, n_test=20, it=100)"
      ],
      "execution_count": 70,
      "outputs": [
        {
          "output_type": "execute_result",
          "data": {
            "text/plain": [
              "0.6445000000000002"
            ]
          },
          "metadata": {
            "tags": []
          },
          "execution_count": 70
        }
      ]
    },
    {
      "cell_type": "markdown",
      "metadata": {
        "id": "-fQu8lZLdR-q",
        "colab_type": "text"
      },
      "source": [
        "### Test of perceptron with training data"
      ]
    },
    {
      "cell_type": "code",
      "metadata": {
        "colab_type": "code",
        "outputId": "4461c7d6-4089-40ee-c545-b0d98606320a",
        "id": "smqSFzONdM1E",
        "colab": {
          "base_uri": "https://localhost:8080/",
          "height": 34
        }
      },
      "source": [
        "# Accuracy for Perceptron (with flip probability 0.1) on training data\n",
        "generator1 = gen_flipped_lin_separable(pflip=0.1)\n",
        "eval_learning_alg(perceptron, generator1, n_train=20, n_test=20, it=100, test_data=False)"
      ],
      "execution_count": 74,
      "outputs": [
        {
          "output_type": "execute_result",
          "data": {
            "text/plain": [
              "0.8390000000000002"
            ]
          },
          "metadata": {
            "tags": []
          },
          "execution_count": 74
        }
      ]
    },
    {
      "cell_type": "code",
      "metadata": {
        "colab_type": "code",
        "outputId": "e14de557-c9ab-4776-d60b-423adf6c5821",
        "id": "I3RMXD90dM1L",
        "colab": {
          "base_uri": "https://localhost:8080/",
          "height": 34
        }
      },
      "source": [
        "# Accuracy for averaged Perceptron (with flip probability 0.1) on training data\n",
        "eval_learning_alg(averaged_perceptron, generator1, n_train=20, n_test=20, it=100, test_data=False)"
      ],
      "execution_count": 75,
      "outputs": [
        {
          "output_type": "execute_result",
          "data": {
            "text/plain": [
              "0.8680000000000001"
            ]
          },
          "metadata": {
            "tags": []
          },
          "execution_count": 75
        }
      ]
    },
    {
      "cell_type": "code",
      "metadata": {
        "colab_type": "code",
        "outputId": "b616139d-4a00-4dca-ef25-320dcb1e72a3",
        "id": "-ajusqoNdM1O",
        "colab": {
          "base_uri": "https://localhost:8080/",
          "height": 34
        }
      },
      "source": [
        "# Accuracy for Perceptron (with flip probability 0.25) on training data\n",
        "generator2 = gen_flipped_lin_separable(pflip=0.25)\n",
        "eval_learning_alg(perceptron, generator2, n_train=20, n_test=20, it=100, test_data=False)"
      ],
      "execution_count": 76,
      "outputs": [
        {
          "output_type": "execute_result",
          "data": {
            "text/plain": [
              "0.6629999999999999"
            ]
          },
          "metadata": {
            "tags": []
          },
          "execution_count": 76
        }
      ]
    },
    {
      "cell_type": "code",
      "metadata": {
        "colab_type": "code",
        "outputId": "5b594e30-99a5-441d-f211-9d37350ebb99",
        "id": "KWWpcjbOdM1Q",
        "colab": {
          "base_uri": "https://localhost:8080/",
          "height": 34
        }
      },
      "source": [
        "# Accuracy for averaged Perceptron (with flip probability 0.25) on training data\n",
        "eval_learning_alg(averaged_perceptron, generator2, n_train=20, n_test=20, it=100, test_data=False)"
      ],
      "execution_count": 77,
      "outputs": [
        {
          "output_type": "execute_result",
          "data": {
            "text/plain": [
              "0.7020000000000001"
            ]
          },
          "metadata": {
            "tags": []
          },
          "execution_count": 77
        }
      ]
    }
  ]
}