{
  "nbformat": 4,
  "nbformat_minor": 0,
  "metadata": {
    "colab": {
      "name": "ankile_MIT 6.036 HW06.ipynb",
      "provenance": [],
      "collapsed_sections": [],
      "include_colab_link": true
    },
    "kernelspec": {
      "name": "python3",
      "display_name": "Python 3"
    }
  },
  "cells": [
    {
      "cell_type": "markdown",
      "metadata": {
        "id": "view-in-github",
        "colab_type": "text"
      },
      "source": [
        "<a href=\"https://colab.research.google.com/github/ankile/MIT6.036-Intro-Machine-Learning/blob/master/hw-06/ankile_MIT_6_036_HW06.ipynb\" target=\"_parent\"><img src=\"https://colab.research.google.com/assets/colab-badge.svg\" alt=\"Open In Colab\"/></a>"
      ]
    },
    {
      "cell_type": "markdown",
      "metadata": {
        "id": "lH5VCTqoeKAr",
        "colab_type": "text"
      },
      "source": [
        "# MIT 6.036 Spring 2020: Homework 6\n",
        "\n",
        "This homework does not include provided Python code. Instead, we encourage you to write your own code to help you answer some of these problems, and/or test and debug the code components we do ask for. All of the problems should be simple enough that hand calculation should be possible, but it may be convenient to write some short programs to explore the neural networks, particularly for problem 2."
      ]
    },
    {
      "cell_type": "code",
      "metadata": {
        "id": "Z9_de7CGeMAN",
        "colab_type": "code",
        "colab": {}
      },
      "source": [
        "import numpy as np"
      ],
      "execution_count": 0,
      "outputs": []
    },
    {
      "cell_type": "markdown",
      "metadata": {
        "id": "yAfU13u6Mjoh",
        "colab_type": "text"
      },
      "source": [
        "# **Problem 2**"
      ]
    },
    {
      "cell_type": "markdown",
      "metadata": {
        "id": "hdfhir-jCOpH",
        "colab_type": "text"
      },
      "source": [
        "You may find it helpful to implement a softmax function to use for solving the problems."
      ]
    },
    {
      "cell_type": "code",
      "metadata": {
        "id": "dpa15uD0CN31",
        "colab_type": "code",
        "colab": {}
      },
      "source": [
        "# Implement Softmax\n",
        "def SM(z):\n",
        "    '''\n",
        "    z is a column vector\n",
        "    '''\n",
        "    e = np.exp(z)\n",
        "    return e / np.sum(e)"
      ],
      "execution_count": 0,
      "outputs": []
    },
    {
      "cell_type": "markdown",
      "metadata": {
        "id": "xYjIQLRleiMg",
        "colab_type": "text"
      },
      "source": [
        "**Problem 2.A**"
      ]
    },
    {
      "cell_type": "code",
      "metadata": {
        "id": "oETivVBBemUi",
        "colab_type": "code",
        "outputId": "c02a7d0d-a6cb-4f62-e5b0-0863cbb38c0e",
        "colab": {
          "base_uri": "https://localhost:8080/",
          "height": 68
        }
      },
      "source": [
        "z = np.array([[-1, 0, 1]]).T\n",
        "SM(z)"
      ],
      "execution_count": 4,
      "outputs": [
        {
          "output_type": "execute_result",
          "data": {
            "text/plain": [
              "array([[0.09003057],\n",
              "       [0.24472847],\n",
              "       [0.66524096]])"
            ]
          },
          "metadata": {
            "tags": []
          },
          "execution_count": 4
        }
      ]
    },
    {
      "cell_type": "markdown",
      "metadata": {
        "id": "wiHN0bJHevw2",
        "colab_type": "text"
      },
      "source": [
        "**Problem 2.C - 2.F**"
      ]
    },
    {
      "cell_type": "code",
      "metadata": {
        "id": "_6FPSgJHeu_Q",
        "colab_type": "code",
        "outputId": "a810c138-1c66-40d3-875c-babdb3db1eee",
        "colab": {
          "base_uri": "https://localhost:8080/",
          "height": 34
        }
      },
      "source": [
        "w = np.array([[1, -1, -2], [-1, 2, 1]])\n",
        "x = np.array([[1], [1]])\n",
        "y = np.array([[0, 1, 0]]).T\n",
        "\n",
        "z = w.T@x\n",
        "a = SM(z)\n",
        "\n",
        "# Problem 2.C\n",
        "a[1].item()"
      ],
      "execution_count": 14,
      "outputs": [
        {
          "output_type": "execute_result",
          "data": {
            "text/plain": [
              "0.6652409557748219"
            ]
          },
          "metadata": {
            "tags": []
          },
          "execution_count": 14
        }
      ]
    },
    {
      "cell_type": "code",
      "metadata": {
        "id": "U2VRlMCoSoJF",
        "colab_type": "code",
        "colab": {
          "base_uri": "https://localhost:8080/",
          "height": 51
        },
        "outputId": "ccdcddb2-8f7b-4006-d16d-476dab35008f"
      },
      "source": [
        "# Problem 2.D\n",
        "# From 1.1.E: -x*y+x*a_1\n",
        "dw = -x*y.T+x*a.T\n",
        "dw"
      ],
      "execution_count": 15,
      "outputs": [
        {
          "output_type": "execute_result",
          "data": {
            "text/plain": [
              "array([[ 0.24472847, -0.33475904,  0.09003057],\n",
              "       [ 0.24472847, -0.33475904,  0.09003057]])"
            ]
          },
          "metadata": {
            "tags": []
          },
          "execution_count": 15
        }
      ]
    },
    {
      "cell_type": "code",
      "metadata": {
        "id": "a_jF354nSr5J",
        "colab_type": "code",
        "colab": {
          "base_uri": "https://localhost:8080/",
          "height": 51
        },
        "outputId": "48c921e7-37c7-46ee-be8a-a9705364ce1e"
      },
      "source": [
        "# Problem 2.E\n",
        "w2 = w - 0.5 * dw\n",
        "w2"
      ],
      "execution_count": 16,
      "outputs": [
        {
          "output_type": "execute_result",
          "data": {
            "text/plain": [
              "array([[ 0.87763576, -0.83262048, -2.04501529],\n",
              "       [-1.12236424,  2.16737952,  0.95498471]])"
            ]
          },
          "metadata": {
            "tags": []
          },
          "execution_count": 16
        }
      ]
    },
    {
      "cell_type": "code",
      "metadata": {
        "id": "JJdgCrznSuuV",
        "colab_type": "code",
        "colab": {
          "base_uri": "https://localhost:8080/",
          "height": 34
        },
        "outputId": "13abcbd0-9a69-4cf7-cf89-0a58f1d87c4e"
      },
      "source": [
        "# Problem 2.F\n",
        "z2 = w2.T@x\n",
        "a2 = SM(z2)\n",
        "\n",
        "a2[1].item()"
      ],
      "execution_count": 17,
      "outputs": [
        {
          "output_type": "execute_result",
          "data": {
            "text/plain": [
              "0.7724528366207931"
            ]
          },
          "metadata": {
            "tags": []
          },
          "execution_count": 17
        }
      ]
    },
    {
      "cell_type": "markdown",
      "metadata": {
        "id": "X-sRxHa9e7w9",
        "colab_type": "text"
      },
      "source": [
        "# **Problem 3**"
      ]
    },
    {
      "cell_type": "markdown",
      "metadata": {
        "id": "5hRvq915LqFz",
        "colab_type": "text"
      },
      "source": [
        "**Problem 3.1**\n",
        "\n",
        "You may choose to draft your implementation here. We recommend looking at the ReLU plot at the top of the homework page for better understanding."
      ]
    },
    {
      "cell_type": "code",
      "metadata": {
        "id": "l7QkgtSofQ-h",
        "colab_type": "code",
        "colab": {}
      },
      "source": [
        "def ReLU(z):\n",
        "    return np.apply_along_axis(func1d=lambda x: np.array([max(0, x.item())]), arr=z, axis=1)\n",
        "\n",
        "def dReLU_dz(z):\n",
        "    '''\n",
        "    z is a column vector\n",
        "    You should return a column vector\n",
        "    '''\n",
        "    return np.apply_along_axis(func1d=lambda x: np.array([1]) if x.item() > 0 else np.array([0]), arr=z, axis=1)"
      ],
      "execution_count": 0,
      "outputs": []
    },
    {
      "cell_type": "code",
      "metadata": {
        "id": "QXRZc5PKc_MC",
        "colab_type": "code",
        "outputId": "fa544bec-361b-4301-b031-a0637b0ac0ee",
        "colab": {
          "base_uri": "https://localhost:8080/",
          "height": 34
        }
      },
      "source": [
        "# Problem 3.2 A\n",
        "W1 = np.array([[1, 0, -1, 0], [0, 1, 0, -1]])\n",
        "W10 = np.array([[-1, -1, -1, -1]]).T\n",
        "X = np.array([[3, 14]]).T\n",
        "\n",
        "a1 = ReLU(W1.T@X + W10)\n",
        "a1.T[0]"
      ],
      "execution_count": 0,
      "outputs": [
        {
          "output_type": "execute_result",
          "data": {
            "text/plain": [
              "array([ 2, 13,  0,  0])"
            ]
          },
          "metadata": {
            "tags": []
          },
          "execution_count": 40
        }
      ]
    },
    {
      "cell_type": "code",
      "metadata": {
        "id": "OSWC46d5dErr",
        "colab_type": "code",
        "outputId": "2c0de58b-8d57-472d-97fc-854c3716cb95",
        "colab": {
          "base_uri": "https://localhost:8080/",
          "height": 34
        }
      },
      "source": [
        "# Problem 3.2 B\n",
        "W2 = np.array([[1] * 4, [-1] * 4]).T\n",
        "W20 = np.array([[0, 2]]).T\n",
        "\n",
        "a2 = SM(W2.T@a1 + W20)\n",
        "a2.T[0]"
      ],
      "execution_count": 0,
      "outputs": [
        {
          "output_type": "execute_result",
          "data": {
            "text/plain": [
              "array([1.00000000e+00, 6.91440011e-13])"
            ]
          },
          "metadata": {
            "tags": []
          },
          "execution_count": 43
        }
      ]
    },
    {
      "cell_type": "code",
      "metadata": {
        "id": "S8D1UtzUkjaF",
        "colab_type": "code",
        "outputId": "552a82d5-854d-4bae-b645-e1a6eeaa7d82",
        "colab": {
          "base_uri": "https://localhost:8080/",
          "height": 187
        }
      },
      "source": [
        "# Problem 3.3 C\n",
        "x1 = np.array([[0.5, 0.5]]).T\n",
        "x2 = np.array([[0, 2]]).T\n",
        "x3 = np.array([[-3, 0.5]]).T\n",
        "\n",
        "ReLU(W1.T@x1 + W10), ReLU(W1.T@x2 + W10), ReLU(W1.T@x3 + W10)"
      ],
      "execution_count": 0,
      "outputs": [
        {
          "output_type": "execute_result",
          "data": {
            "text/plain": [
              "(array([[0],\n",
              "        [0],\n",
              "        [0],\n",
              "        [0]]), array([[0],\n",
              "        [1],\n",
              "        [0],\n",
              "        [0]]), array([[0],\n",
              "        [0],\n",
              "        [2],\n",
              "        [0]]))"
            ]
          },
          "metadata": {
            "tags": []
          },
          "execution_count": 46
        }
      ]
    },
    {
      "cell_type": "code",
      "metadata": {
        "id": "I5a8oo4TmoSQ",
        "colab_type": "code",
        "outputId": "87cde321-8e72-49ae-8355-d006fcc6f80c",
        "colab": {
          "base_uri": "https://localhost:8080/",
          "height": 51
        }
      },
      "source": [
        "# Problem 3.4 A\n",
        "SM(np.array([[0, 2]]).T)"
      ],
      "execution_count": 0,
      "outputs": [
        {
          "output_type": "execute_result",
          "data": {
            "text/plain": [
              "array([[0.11920292],\n",
              "       [0.88079708]])"
            ]
          },
          "metadata": {
            "tags": []
          },
          "execution_count": 50
        }
      ]
    },
    {
      "cell_type": "code",
      "metadata": {
        "id": "bSgY3b5Vnsjj",
        "colab_type": "code",
        "colab": {}
      },
      "source": [
        ""
      ],
      "execution_count": 0,
      "outputs": []
    }
  ]
}