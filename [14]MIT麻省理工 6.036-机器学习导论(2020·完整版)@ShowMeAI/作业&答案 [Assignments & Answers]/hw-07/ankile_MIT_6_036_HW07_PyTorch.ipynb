{
  "nbformat": 4,
  "nbformat_minor": 0,
  "metadata": {
    "colab": {
      "name": "ankile_MIT 6.036 HW07 - PyTorch",
      "provenance": [],
      "collapsed_sections": [],
      "include_colab_link": true
    },
    "kernelspec": {
      "name": "python3",
      "display_name": "Python 3"
    }
  },
  "cells": [
    {
      "cell_type": "markdown",
      "metadata": {
        "id": "view-in-github",
        "colab_type": "text"
      },
      "source": [
        "<a href=\"https://colab.research.google.com/github/ankile/MIT6.036-Intro-Machine-Learning/blob/master/hw-07/ankile_MIT_6_036_HW07_PyTorch.ipynb\" target=\"_parent\"><img src=\"https://colab.research.google.com/assets/colab-badge.svg\" alt=\"Open In Colab\"/></a>"
      ]
    },
    {
      "cell_type": "markdown",
      "metadata": {
        "id": "JWaIkcl0xwu_",
        "colab_type": "text"
      },
      "source": [
        "# MIT 6.036 Fall 2019: Homework 7 - PyTorch\n",
        "\n",
        "This colab notebook provides code and a framework for homework 7. You can work out your solutions here, then submit your results back on the homework page when ready.\n",
        "\n",
        "**Note**: You can go to `File > Save a copy in Drive...` to save your own copy of this notebook for editing.\n",
        "\n",
        "## Setup\n",
        "\n",
        "First, download the code distribution for this homework that contains test cases and helper functions. Run the next code block to download and import the code for this lab."
      ]
    },
    {
      "cell_type": "code",
      "metadata": {
        "colab_type": "code",
        "id": "POU9z7ShiOHv",
        "colab": {
          "base_uri": "https://localhost:8080/",
          "height": 340
        },
        "outputId": "63f253db-45b4-404b-c607-38e9c9cf4ffc"
      },
      "source": [
        "!rm -rf code_for_hw7\n",
        "!wget --quiet https://introml.odl.mit.edu/cat-soop/_static/6.036/homework/hw07/code_for_hw7.zip\n",
        "!unzip code_for_hw7.zip\n",
        "!mv code_for_hw7/* ."
      ],
      "execution_count": 45,
      "outputs": [
        {
          "output_type": "stream",
          "text": [
            "Archive:  code_for_hw7.zip\n",
            "   creating: code_for_hw7/\n",
            "  inflating: code_for_hw7/utils_hw7.py  \n",
            "  inflating: code_for_hw7/code_for_hw7_pytorch.py  \n",
            "  inflating: code_for_hw7/code_for_hw7.py  \n",
            "  inflating: code_for_hw7/modules_disp.py  \n",
            "   creating: code_for_hw7/data/\n",
            "  inflating: code_for_hw7/data/data2_validate.csv  \n",
            "  inflating: code_for_hw7/data/dataXor_train.csv  \n",
            "  inflating: code_for_hw7/data/data1_train.csv  \n",
            "  inflating: code_for_hw7/data/data4_train.csv  \n",
            "  inflating: code_for_hw7/data/data4_validate.csv  \n",
            "  inflating: code_for_hw7/data/data3class_train.csv  \n",
            "  inflating: code_for_hw7/data/data1_validate.csv  \n",
            "  inflating: code_for_hw7/data/data3_train.csv  \n",
            "  inflating: code_for_hw7/data/data2_train.csv  \n",
            "  inflating: code_for_hw7/data/data3_validate.csv  \n",
            "  inflating: code_for_hw7/expected_results.py  \n",
            "mv: cannot move 'code_for_hw7/data' to './data': Directory not empty\n"
          ],
          "name": "stdout"
        }
      ]
    },
    {
      "cell_type": "markdown",
      "metadata": {
        "id": "EJQvZ_MNyEYQ",
        "colab_type": "text"
      },
      "source": [
        "# 3) 2D Datasets\n",
        "\n",
        "For the 2D datasets, we have provided the following function:\n",
        "\n",
        ">```run_pytorch_2d(data_name, layers, epochs, split=0.25, display=True, trials=5)```\n",
        "\n",
        "where:\n",
        "\n",
        "* `data_name` is a string, such as '1', '2', etc. \n",
        "* `layers` is a list of torch.nn layer definitions for a Sequential model, e.g.\n",
        "> ```[Linear(in_features=2, out_features=classes, bias=True), Softmax(dim=-1)]```\n",
        "* `epochs` is an integer indicating how many times to go through the data in training \n",
        "* `split` is a fraction of the training data to use for validation if a validation set is not defined \n",
        "* `display` whether to display result plots \n",
        "* `verbose` whether to print loss and accuracy (percent correctly labeled) each epoch \n",
        "* `trials` is an integer indicating how many times to perform the training and testing \n",
        "\n",
        "The two-class datasets have `data_name`s: `'1'`,`'2'`,`'3'`,`'4'`.\n",
        "\n",
        "In this problem, try the following 5 architectures, specified by the number of units in the hidden layers:\n",
        "\n",
        "`0: (), 1: (10), 2: (100), 3: (10, 10), 4: (100, 100)`\n",
        "\n",
        "You may find the `archs` function below to be helpful here. Some of these questions ask for the \"simplest\" architecture; the list above is ordered starting with the simplest."
      ]
    },
    {
      "cell_type": "markdown",
      "metadata": {
        "id": "eciSdje5J5vV",
        "colab_type": "text"
      },
      "source": [
        "## Helper Functions\n",
        "\n",
        "The following functions will train a neural network in PyTorch. You do not need to edit them but please try to go through them. There is a **Playground** section below that shows how to run these methods for the homework."
      ]
    },
    {
      "cell_type": "code",
      "metadata": {
        "id": "eIkE7hqmgE1c",
        "colab_type": "code",
        "colab": {}
      },
      "source": [
        "from utils_hw7 import plot_heat, get_data_loader, model_fit, model_evaluate, run_pytorch, dataset_paths"
      ],
      "execution_count": 0,
      "outputs": []
    },
    {
      "cell_type": "code",
      "metadata": {
        "id": "U34tpL0QK96Q",
        "colab_type": "code",
        "colab": {}
      },
      "source": [
        "import numpy as np\n",
        "import itertools\n",
        "import math as m\n",
        "from matplotlib import pyplot as plt"
      ],
      "execution_count": 0,
      "outputs": []
    },
    {
      "cell_type": "code",
      "metadata": {
        "id": "gaY64c3h6Hd0",
        "colab_type": "code",
        "colab": {}
      },
      "source": [
        "import torch\n",
        "from torch.nn import Linear, ReLU, Softmax, Sequential, CrossEntropyLoss\n",
        "from torch.optim import Adam\n",
        "from torch.utils.data import DataLoader, TensorDataset\n",
        "\n",
        "\n",
        "######################################################################\n",
        "# Problem 3 - 2D data\n",
        "######################################################################\n",
        "\n",
        "def archs(classes):\n",
        "    return {0: [Linear(in_features=2, out_features=classes, bias=True),\n",
        "             Softmax(dim=-1)],\n",
        "            \n",
        "            1: [Linear(in_features=2, out_features=10, bias=True),\n",
        "             ReLU(),\n",
        "             Linear(in_features=10, out_features=classes, bias=True),\n",
        "             Softmax(dim=-1)],\n",
        "\n",
        "            2: [Linear(in_features=2, out_features=100, bias=True),\n",
        "             ReLU(),\n",
        "             Linear(in_features=100, out_features=classes, bias=True),\n",
        "             Softmax(dim=-1)],\n",
        "            \n",
        "            3: [Linear(in_features=2, out_features=10, bias=True),\n",
        "             ReLU(),\n",
        "             Linear(in_features=10, out_features=10, bias=True),\n",
        "             ReLU(),\n",
        "             Linear(in_features=10, out_features=classes, bias=True),\n",
        "             Softmax(dim=-1)],\n",
        "\n",
        "            4: [Linear(in_features=2, out_features=100, bias=True),\n",
        "             ReLU(),\n",
        "             Linear(in_features=100, out_features=100, bias=True),\n",
        "             ReLU(),\n",
        "             Linear(in_features=100, out_features=classes, bias=True),\n",
        "             Softmax(dim=-1)]\n",
        "           }\n",
        "\n"
      ],
      "execution_count": 0,
      "outputs": []
    },
    {
      "cell_type": "code",
      "metadata": {
        "id": "Poe-4fk7Gop7",
        "colab_type": "code",
        "colab": {}
      },
      "source": [
        "\"\"\"\n",
        "This function is also in utils_hw7.\n",
        "We write it here just to bring it to your attention.\n",
        "Please try to go through it.\n",
        "\"\"\"\n",
        "\n",
        "def call_model(mode, model, data_iter, optimizer, criterion):\n",
        "    epoch_loss = []\n",
        "    hits = []\n",
        "    items = []\n",
        "    \n",
        "    if mode == 'train':\n",
        "        model.train()\n",
        "        grad_mode = torch.enable_grad()\n",
        "    else:\n",
        "        model.eval()\n",
        "        grad_mode = torch.no_grad()\n",
        "\n",
        "    with grad_mode:\n",
        "\n",
        "        for batch in data_iter:\n",
        "            X, y = batch.X, batch.y\n",
        "\n",
        "            if mode == 'train':\n",
        "                # zero the parameter gradients\n",
        "                optimizer.zero_grad()\n",
        "\n",
        "            # forward\n",
        "            y_hat = model(X)\n",
        "            batch_loss = criterion(y_hat, y.long())\n",
        "\n",
        "            if mode == 'train':\n",
        "                # backward + optimize\n",
        "                batch_loss.backward()\n",
        "                optimizer.step()\n",
        "\n",
        "            epoch_loss.append(batch_loss.item())\n",
        "            hits.append((y_hat.argmax(1) == y).sum())\n",
        "            items.append(X.shape[0])\n",
        "\n",
        "        loss = np.sum(epoch_loss)/np.sum(items)\n",
        "        acc_score = np.sum(hits)/np.sum(items)\n",
        "        return loss, acc_score"
      ],
      "execution_count": 0,
      "outputs": []
    },
    {
      "cell_type": "code",
      "metadata": {
        "id": "Azz2Ou-i98Ui",
        "colab_type": "code",
        "colab": {}
      },
      "source": [
        "\"\"\"\n",
        "This function is also in utils_hw7.\n",
        "We write it here just to bring it to your attention because\n",
        "you'll be running (but not modifying) this function for this\n",
        "homework.\n",
        "Please try to go through it.\n",
        "\"\"\"\n",
        "\n",
        "def run_pytorch_2d(data_name, layers, epochs, split=0.25, display=True,\n",
        "                   verbose=True, trials=1, batch_size=32):\n",
        "    print('Pytorch FC: dataset=', data_name)\n",
        "    (train_dataset_path, val_dataset_path, test_dataset_path) = dataset_paths(data_name)\n",
        "    \n",
        "    # Load the datasets\n",
        "    train_iter, num_classes = get_data_loader(train_dataset_path, batch_size)\n",
        "    val_iter, num_classes = get_data_loader(val_dataset_path, batch_size)\n",
        "    test_iter, num_classes = get_data_loader(test_dataset_path, batch_size)\n",
        "    \n",
        "    if val_iter is None:\n",
        "        # Use split\n",
        "        print(\"Use split\", train_iter)\n",
        "        assert split > 0, '`split` must be > 0'\n",
        "        train_iter, val_iter,  num_classes = get_data_loader(train_dataset_path, batch_size, split)\n",
        "\n",
        "    val_acc, test_acc = 0, 0\n",
        "    X_train = torch.cat([batch.X for batch in train_iter], 0)\n",
        "    y_train = torch.cat([batch.y for batch in train_iter], 0)\n",
        "    \n",
        "    for trial in range(trials):\n",
        "        trial_history = {'epoch_loss': [], 'epoch_val_loss': [],\n",
        "               'epoch_acc': [], 'epoch_val_acc': []}\n",
        "    \n",
        "        if verbose: print(\"\\n\")\n",
        "        print(f'# Trial {trial}')\n",
        "        \n",
        "        # Run the model\n",
        "        model, vacc, tacc, = run_pytorch(train_iter, val_iter, test_iter, \n",
        "                                         layers, epochs, split=split,\n",
        "                                         verbose=verbose, history=trial_history)\n",
        "\n",
        "        val_acc += vacc if vacc else 0\n",
        "        test_acc += tacc if tacc else 0\n",
        "        if display:\n",
        "            # plot classifier landscape on training data\n",
        "            plot_heat(X_train, y_train, model)\n",
        "            plt.title('Training data')\n",
        "            plt.show()\n",
        "            if test_iter is not None:\n",
        "                # plot classifier landscape on testing data\n",
        "                X_test = torch.cat([batch.X for batch in test_iter], 0)\n",
        "                y_test = torch.cat([batch.y for batch in test_iter], 0)\n",
        "                plot_heat(X_test, y_test, model)\n",
        "                plt.title('Testing data')\n",
        "                plt.show()\n",
        "            # Plot epoch loss\n",
        "            plt.figure(facecolor=\"white\")\n",
        "            plt.plot(range(epochs), trial_history['epoch_loss'], label='epoch_train_loss')\n",
        "            plt.plot(range(epochs), trial_history['epoch_val_loss'], label='epoch_val_loss')\n",
        "            plt.xlabel('epoch')\n",
        "            plt.ylabel('loss')\n",
        "            plt.title('Epoch val_loss and loss')\n",
        "            plt.legend()\n",
        "            plt.show()\n",
        "            # Plot epoch accuracy\n",
        "            plt.figure(facecolor=\"white\")\n",
        "            plt.plot(range(epochs), trial_history['epoch_acc'], label='epoch_train_acc')\n",
        "            plt.plot(range(epochs), trial_history['epoch_val_acc'], label='epoch_val_acc')\n",
        "            plt.xlabel('epoch')\n",
        "            plt.ylabel('accuracy')\n",
        "            plt.legend()\n",
        "            plt.title('Epoch val_acc and acc')\n",
        "            plt.show()\n",
        "    if val_acc:\n",
        "        print (\"\\nAvg. validation accuracy:\"  + str(val_acc/trials))\n",
        "    if test_acc:\n",
        "        print (\"\\nAvg. test accuracy:\"  + str(test_acc/trials))\n",
        "        \n",
        "   \n",
        "    return X_train, y_train, model"
      ],
      "execution_count": 0,
      "outputs": []
    },
    {
      "cell_type": "markdown",
      "metadata": {
        "id": "tlunJ5WzMI97",
        "colab_type": "text"
      },
      "source": [
        "## 3A)"
      ]
    },
    {
      "cell_type": "code",
      "metadata": {
        "id": "ZxGpT20jMLl0",
        "colab_type": "code",
        "colab": {}
      },
      "source": [
        "architectures = archs(2)\n",
        "\n",
        "# Data set 1\n",
        "run_pytorch_2d('1', architectures[0], 10, trials=20, display=False, verbose=True);"
      ],
      "execution_count": 0,
      "outputs": []
    },
    {
      "cell_type": "code",
      "metadata": {
        "id": "mlF3pnR6NPF1",
        "colab_type": "code",
        "colab": {}
      },
      "source": [
        "# Data set 2\n",
        "run_pytorch_2d('2', architectures[2], 10, trials=30, display=False, verbose=True);"
      ],
      "execution_count": 0,
      "outputs": []
    },
    {
      "cell_type": "code",
      "metadata": {
        "id": "Pk37nzNSNX9c",
        "colab_type": "code",
        "colab": {}
      },
      "source": [
        "# Data set 3\n",
        "run_pytorch_2d('3', architectures[0], 10, trials=30, display=False, verbose=True);"
      ],
      "execution_count": 0,
      "outputs": []
    },
    {
      "cell_type": "code",
      "metadata": {
        "id": "UKIXClLENhq7",
        "colab_type": "code",
        "colab": {}
      },
      "source": [
        "# Data set 4\n",
        "run_pytorch_2d('4', architectures[1], 10, trials=30, display=False, verbose=True);"
      ],
      "execution_count": 0,
      "outputs": []
    },
    {
      "cell_type": "markdown",
      "metadata": {
        "id": "i589p95TP-1U",
        "colab_type": "text"
      },
      "source": [
        "## 3C)"
      ]
    },
    {
      "cell_type": "code",
      "metadata": {
        "id": "avup0qOeQB0e",
        "colab_type": "code",
        "colab": {
          "base_uri": "https://localhost:8080/",
          "height": 1000
        },
        "outputId": "d2f9d2eb-1588-4ab8-cc04-3b5a9ad6a9ab"
      },
      "source": [
        "# Layers, (200, 200)\n",
        "classes = 2\n",
        "layers = [Linear(in_features=2, out_features=200, bias=True),\n",
        "             ReLU(),\n",
        "             Linear(in_features=200, out_features=200, bias=True),\n",
        "             ReLU(),\n",
        "             Linear(in_features=200, out_features=classes, bias=True),\n",
        "             Softmax(dim=-1)]\n",
        "\n",
        "# Data set 3\n",
        "run_pytorch_2d('3', layers, 100, trials=1, display=True, verbose=True);"
      ],
      "execution_count": 38,
      "outputs": [
        {
          "output_type": "stream",
          "text": [
            "Pytorch FC: dataset= 3\n",
            "Convert from -1,1 to 0,1\n",
            "Loading X torch.Size([400, 2]) y torch.Size([400]) classes {0.0, 1.0}\n",
            "Convert from -1,1 to 0,1\n",
            "Loading X torch.Size([200, 2]) y torch.Size([200]) classes {0.0, 1.0}\n",
            "\n",
            "\n",
            "# Trial 0\n",
            "epoch: 0 | TRAIN: loss 0.01599 acc 0.9225 | VALI: loss 0.0136 acc 0.94\n",
            "epoch: 1 | TRAIN: loss 0.01155 acc 0.9675 | VALI: loss 0.01252 acc 0.965\n",
            "epoch: 2 | TRAIN: loss 0.011 acc 0.9825 | VALI: loss 0.01233 acc 0.97\n",
            "epoch: 3 | TRAIN: loss 0.01089 acc 0.9825 | VALI: loss 0.01219 acc 0.97\n",
            "epoch: 4 | TRAIN: loss 0.01083 acc 0.9825 | VALI: loss 0.01213 acc 0.975\n",
            "epoch: 5 | TRAIN: loss 0.0108 acc 0.9825 | VALI: loss 0.01208 acc 0.975\n",
            "epoch: 6 | TRAIN: loss 0.01077 acc 0.985 | VALI: loss 0.01204 acc 0.97\n",
            "epoch: 7 | TRAIN: loss 0.01075 acc 0.985 | VALI: loss 0.01201 acc 0.97\n",
            "epoch: 8 | TRAIN: loss 0.01073 acc 0.985 | VALI: loss 0.01199 acc 0.97\n",
            "epoch: 9 | TRAIN: loss 0.01072 acc 0.985 | VALI: loss 0.01198 acc 0.97\n",
            "epoch: 10 | TRAIN: loss 0.01071 acc 0.985 | VALI: loss 0.01196 acc 0.97\n",
            "epoch: 11 | TRAIN: loss 0.0107 acc 0.985 | VALI: loss 0.01195 acc 0.965\n",
            "epoch: 12 | TRAIN: loss 0.01069 acc 0.985 | VALI: loss 0.01194 acc 0.97\n",
            "epoch: 13 | TRAIN: loss 0.01068 acc 0.985 | VALI: loss 0.01193 acc 0.97\n",
            "epoch: 14 | TRAIN: loss 0.01067 acc 0.985 | VALI: loss 0.01193 acc 0.97\n",
            "epoch: 15 | TRAIN: loss 0.01067 acc 0.9875 | VALI: loss 0.01192 acc 0.97\n",
            "epoch: 16 | TRAIN: loss 0.01066 acc 0.9875 | VALI: loss 0.01191 acc 0.97\n",
            "epoch: 17 | TRAIN: loss 0.01065 acc 0.9875 | VALI: loss 0.01191 acc 0.97\n",
            "epoch: 18 | TRAIN: loss 0.01065 acc 0.9875 | VALI: loss 0.0119 acc 0.97\n",
            "epoch: 19 | TRAIN: loss 0.01064 acc 0.9875 | VALI: loss 0.0119 acc 0.97\n",
            "epoch: 20 | TRAIN: loss 0.01064 acc 0.9875 | VALI: loss 0.01189 acc 0.97\n",
            "epoch: 21 | TRAIN: loss 0.01063 acc 0.9875 | VALI: loss 0.01189 acc 0.97\n",
            "epoch: 22 | TRAIN: loss 0.01063 acc 0.9875 | VALI: loss 0.01188 acc 0.97\n",
            "epoch: 23 | TRAIN: loss 0.01062 acc 0.9875 | VALI: loss 0.01188 acc 0.97\n",
            "epoch: 24 | TRAIN: loss 0.01062 acc 0.9875 | VALI: loss 0.01188 acc 0.97\n",
            "epoch: 25 | TRAIN: loss 0.01061 acc 0.9875 | VALI: loss 0.01187 acc 0.97\n",
            "epoch: 26 | TRAIN: loss 0.01061 acc 0.9875 | VALI: loss 0.01187 acc 0.97\n",
            "epoch: 27 | TRAIN: loss 0.0106 acc 0.9875 | VALI: loss 0.01187 acc 0.97\n",
            "epoch: 28 | TRAIN: loss 0.0106 acc 0.99 | VALI: loss 0.01186 acc 0.97\n",
            "epoch: 29 | TRAIN: loss 0.01059 acc 0.99 | VALI: loss 0.01186 acc 0.97\n",
            "epoch: 30 | TRAIN: loss 0.01059 acc 0.99 | VALI: loss 0.01186 acc 0.97\n",
            "epoch: 31 | TRAIN: loss 0.01058 acc 0.99 | VALI: loss 0.01186 acc 0.97\n",
            "epoch: 32 | TRAIN: loss 0.01058 acc 0.99 | VALI: loss 0.01186 acc 0.97\n",
            "epoch: 33 | TRAIN: loss 0.01057 acc 0.99 | VALI: loss 0.01186 acc 0.97\n",
            "epoch: 34 | TRAIN: loss 0.01057 acc 0.99 | VALI: loss 0.01186 acc 0.97\n",
            "epoch: 35 | TRAIN: loss 0.01057 acc 0.99 | VALI: loss 0.01186 acc 0.97\n",
            "epoch: 36 | TRAIN: loss 0.01057 acc 0.99 | VALI: loss 0.01186 acc 0.97\n",
            "epoch: 37 | TRAIN: loss 0.01056 acc 0.99 | VALI: loss 0.01186 acc 0.97\n",
            "epoch: 38 | TRAIN: loss 0.01056 acc 0.99 | VALI: loss 0.01186 acc 0.97\n",
            "epoch: 39 | TRAIN: loss 0.01055 acc 0.99 | VALI: loss 0.01186 acc 0.97\n",
            "epoch: 40 | TRAIN: loss 0.01056 acc 0.99 | VALI: loss 0.01186 acc 0.97\n",
            "epoch: 41 | TRAIN: loss 0.01055 acc 0.99 | VALI: loss 0.01185 acc 0.97\n",
            "epoch: 42 | TRAIN: loss 0.01055 acc 0.99 | VALI: loss 0.01186 acc 0.97\n",
            "epoch: 43 | TRAIN: loss 0.01055 acc 0.99 | VALI: loss 0.01185 acc 0.97\n",
            "epoch: 44 | TRAIN: loss 0.01054 acc 0.99 | VALI: loss 0.01186 acc 0.97\n",
            "epoch: 45 | TRAIN: loss 0.01054 acc 0.99 | VALI: loss 0.01185 acc 0.97\n",
            "epoch: 46 | TRAIN: loss 0.01054 acc 0.99 | VALI: loss 0.01187 acc 0.97\n",
            "epoch: 47 | TRAIN: loss 0.01055 acc 0.99 | VALI: loss 0.01185 acc 0.97\n",
            "epoch: 48 | TRAIN: loss 0.01053 acc 0.99 | VALI: loss 0.01187 acc 0.97\n",
            "epoch: 49 | TRAIN: loss 0.01055 acc 0.99 | VALI: loss 0.01185 acc 0.97\n",
            "epoch: 50 | TRAIN: loss 0.01053 acc 0.99 | VALI: loss 0.01187 acc 0.97\n",
            "epoch: 51 | TRAIN: loss 0.01056 acc 0.99 | VALI: loss 0.01186 acc 0.97\n",
            "epoch: 52 | TRAIN: loss 0.01053 acc 0.99 | VALI: loss 0.01186 acc 0.97\n",
            "epoch: 53 | TRAIN: loss 0.01057 acc 0.99 | VALI: loss 0.01186 acc 0.97\n",
            "epoch: 54 | TRAIN: loss 0.01053 acc 0.99 | VALI: loss 0.01186 acc 0.97\n",
            "epoch: 55 | TRAIN: loss 0.01057 acc 0.99 | VALI: loss 0.01189 acc 0.97\n",
            "epoch: 56 | TRAIN: loss 0.01053 acc 0.99 | VALI: loss 0.01185 acc 0.97\n",
            "epoch: 57 | TRAIN: loss 0.01058 acc 0.99 | VALI: loss 0.01205 acc 0.965\n",
            "epoch: 58 | TRAIN: loss 0.01061 acc 0.985 | VALI: loss 0.01181 acc 0.975\n",
            "epoch: 59 | TRAIN: loss 0.01057 acc 0.9875 | VALI: loss 0.01207 acc 0.965\n",
            "epoch: 60 | TRAIN: loss 0.01067 acc 0.985 | VALI: loss 0.01186 acc 0.97\n",
            "epoch: 61 | TRAIN: loss 0.01052 acc 0.99 | VALI: loss 0.01186 acc 0.97\n",
            "epoch: 62 | TRAIN: loss 0.01057 acc 0.9875 | VALI: loss 0.01187 acc 0.97\n",
            "epoch: 63 | TRAIN: loss 0.01052 acc 0.99 | VALI: loss 0.01185 acc 0.97\n",
            "epoch: 64 | TRAIN: loss 0.01052 acc 0.99 | VALI: loss 0.01185 acc 0.97\n",
            "epoch: 65 | TRAIN: loss 0.01052 acc 0.99 | VALI: loss 0.01186 acc 0.97\n",
            "epoch: 66 | TRAIN: loss 0.01052 acc 0.99 | VALI: loss 0.01186 acc 0.97\n",
            "epoch: 67 | TRAIN: loss 0.01052 acc 0.99 | VALI: loss 0.01186 acc 0.97\n",
            "epoch: 68 | TRAIN: loss 0.01051 acc 0.99 | VALI: loss 0.01186 acc 0.97\n",
            "epoch: 69 | TRAIN: loss 0.01051 acc 0.99 | VALI: loss 0.01186 acc 0.97\n",
            "epoch: 70 | TRAIN: loss 0.01051 acc 0.99 | VALI: loss 0.01186 acc 0.97\n",
            "epoch: 71 | TRAIN: loss 0.01051 acc 0.99 | VALI: loss 0.01186 acc 0.97\n",
            "epoch: 72 | TRAIN: loss 0.01051 acc 0.99 | VALI: loss 0.01186 acc 0.97\n",
            "epoch: 73 | TRAIN: loss 0.01051 acc 0.99 | VALI: loss 0.01186 acc 0.97\n",
            "epoch: 74 | TRAIN: loss 0.01051 acc 0.99 | VALI: loss 0.01186 acc 0.97\n",
            "epoch: 75 | TRAIN: loss 0.01051 acc 0.99 | VALI: loss 0.01186 acc 0.97\n",
            "epoch: 76 | TRAIN: loss 0.01051 acc 0.99 | VALI: loss 0.01186 acc 0.97\n",
            "epoch: 77 | TRAIN: loss 0.01051 acc 0.99 | VALI: loss 0.01186 acc 0.97\n",
            "epoch: 78 | TRAIN: loss 0.01051 acc 0.99 | VALI: loss 0.01186 acc 0.97\n",
            "epoch: 79 | TRAIN: loss 0.01051 acc 0.99 | VALI: loss 0.01186 acc 0.97\n",
            "epoch: 80 | TRAIN: loss 0.01051 acc 0.99 | VALI: loss 0.01186 acc 0.97\n",
            "epoch: 81 | TRAIN: loss 0.01051 acc 0.99 | VALI: loss 0.01186 acc 0.97\n",
            "epoch: 82 | TRAIN: loss 0.01051 acc 0.99 | VALI: loss 0.01186 acc 0.97\n",
            "epoch: 83 | TRAIN: loss 0.01051 acc 0.99 | VALI: loss 0.01186 acc 0.97\n",
            "epoch: 84 | TRAIN: loss 0.01051 acc 0.99 | VALI: loss 0.01186 acc 0.97\n",
            "epoch: 85 | TRAIN: loss 0.01051 acc 0.99 | VALI: loss 0.01186 acc 0.97\n",
            "epoch: 86 | TRAIN: loss 0.01051 acc 0.99 | VALI: loss 0.01186 acc 0.97\n",
            "epoch: 87 | TRAIN: loss 0.01051 acc 0.99 | VALI: loss 0.01187 acc 0.97\n",
            "epoch: 88 | TRAIN: loss 0.01051 acc 0.99 | VALI: loss 0.01187 acc 0.97\n",
            "epoch: 89 | TRAIN: loss 0.01051 acc 0.99 | VALI: loss 0.01187 acc 0.97\n",
            "epoch: 90 | TRAIN: loss 0.01051 acc 0.99 | VALI: loss 0.01187 acc 0.97\n",
            "epoch: 91 | TRAIN: loss 0.01051 acc 0.99 | VALI: loss 0.01187 acc 0.97\n",
            "epoch: 92 | TRAIN: loss 0.0105 acc 0.99 | VALI: loss 0.01187 acc 0.97\n",
            "epoch: 93 | TRAIN: loss 0.0105 acc 0.99 | VALI: loss 0.01187 acc 0.97\n",
            "epoch: 94 | TRAIN: loss 0.0105 acc 0.99 | VALI: loss 0.01187 acc 0.97\n",
            "epoch: 95 | TRAIN: loss 0.0105 acc 0.99 | VALI: loss 0.01187 acc 0.97\n",
            "epoch: 96 | TRAIN: loss 0.0105 acc 0.99 | VALI: loss 0.01187 acc 0.97\n",
            "epoch: 97 | TRAIN: loss 0.0105 acc 0.99 | VALI: loss 0.01187 acc 0.97\n",
            "epoch: 98 | TRAIN: loss 0.0105 acc 0.99 | VALI: loss 0.01187 acc 0.97\n",
            "epoch: 99 | TRAIN: loss 0.0105 acc 0.99 | VALI: loss 0.01187 acc 0.97\n",
            "\n"
          ],
          "name": "stdout"
        },
        {
          "output_type": "display_data",
          "data": {
            "image/png": "[encoded data removed]",
            "text/plain": [
              "<Figure size 432x288 with 2 Axes>"
            ]
          },
          "metadata": {
            "tags": []
          }
        },
        {
          "output_type": "display_data",
          "data": {
            "image/png": "[encoded data removed]",
            "text/plain": [
              "<Figure size 432x288 with 1 Axes>"
            ]
          },
          "metadata": {
            "tags": []
          }
        },
        {
          "output_type": "display_data",
          "data": {
            "image/png": "[encoded data removed]",
            "text/plain": [
              "<Figure size 432x288 with 1 Axes>"
            ]
          },
          "metadata": {
            "tags": []
          }
        },
        {
          "output_type": "stream",
          "text": [
            "\n",
            "Avg. validation accuracy:0.96965\n"
          ],
          "name": "stdout"
        }
      ]
    },
    {
      "cell_type": "markdown",
      "metadata": {
        "id": "Mr6Aad3LRHWY",
        "colab_type": "text"
      },
      "source": [
        "## 3E)"
      ]
    },
    {
      "cell_type": "code",
      "metadata": {
        "id": "sQbENY_2RI6Z",
        "colab_type": "code",
        "colab": {
          "base_uri": "https://localhost:8080/",
          "height": 1000
        },
        "outputId": "a76e3f3b-1521-40c5-be77-34a32cb9f395"
      },
      "source": [
        "for arch in archs(3).values():\n",
        "    run_pytorch_2d('3class', arch, 10, trials=20, display=False, verbose=False, split=0.5);"
      ],
      "execution_count": 43,
      "outputs": [
        {
          "output_type": "stream",
          "text": [
            "Pytorch FC: dataset= 3class\n",
            "Loading X torch.Size([800, 2]) y torch.Size([800]) classes {0.0, 1.0, 2.0}\n",
            "Use split <torch.utils.data.dataloader.DataLoader object at 0x7f216311ef60>\n",
            "Using validation split\n",
            "train_size 400 val_size 400\n",
            "Loading train X torch.Size([400, 2]) y torch.Size([400]) classes {0.0, 1.0, 2.0}\n",
            "Loading val X torch.Size([400, 2]) y torch.Size([400]) classes {0.0, 1.0, 2.0}\n",
            "# Trial 0\n",
            "# Trial 1\n",
            "# Trial 2\n",
            "# Trial 3\n",
            "# Trial 4\n",
            "# Trial 5\n",
            "# Trial 6\n",
            "# Trial 7\n",
            "# Trial 8\n",
            "# Trial 9\n",
            "# Trial 10\n",
            "# Trial 11\n",
            "# Trial 12\n",
            "# Trial 13\n",
            "# Trial 14\n",
            "# Trial 15\n",
            "# Trial 16\n",
            "# Trial 17\n",
            "# Trial 18\n",
            "# Trial 19\n",
            "\n",
            "Avg. validation accuracy:0.3966124999999999\n",
            "Pytorch FC: dataset= 3class\n",
            "Loading X torch.Size([800, 2]) y torch.Size([800]) classes {0.0, 1.0, 2.0}\n",
            "Use split <torch.utils.data.dataloader.DataLoader object at 0x7f216311ebe0>\n",
            "Using validation split\n",
            "train_size 400 val_size 400\n",
            "Loading train X torch.Size([400, 2]) y torch.Size([400]) classes {0.0, 1.0, 2.0}\n",
            "Loading val X torch.Size([400, 2]) y torch.Size([400]) classes {0.0, 1.0, 2.0}\n",
            "# Trial 0\n",
            "# Trial 1\n",
            "# Trial 2\n",
            "# Trial 3\n",
            "# Trial 4\n",
            "# Trial 5\n",
            "# Trial 6\n",
            "# Trial 7\n",
            "# Trial 8\n",
            "# Trial 9\n",
            "# Trial 10\n",
            "# Trial 11\n",
            "# Trial 12\n",
            "# Trial 13\n",
            "# Trial 14\n",
            "# Trial 15\n",
            "# Trial 16\n",
            "# Trial 17\n",
            "# Trial 18\n",
            "# Trial 19\n",
            "\n",
            "Avg. validation accuracy:0.6066250000000001\n",
            "Pytorch FC: dataset= 3class\n",
            "Loading X torch.Size([800, 2]) y torch.Size([800]) classes {0.0, 1.0, 2.0}\n",
            "Use split <torch.utils.data.dataloader.DataLoader object at 0x7f216311eda0>\n",
            "Using validation split\n",
            "train_size 400 val_size 400\n",
            "Loading train X torch.Size([400, 2]) y torch.Size([400]) classes {0.0, 1.0, 2.0}\n",
            "Loading val X torch.Size([400, 2]) y torch.Size([400]) classes {0.0, 1.0, 2.0}\n",
            "# Trial 0\n",
            "# Trial 1\n",
            "# Trial 2\n",
            "# Trial 3\n",
            "# Trial 4\n",
            "# Trial 5\n",
            "# Trial 6\n",
            "# Trial 7\n",
            "# Trial 8\n",
            "# Trial 9\n",
            "# Trial 10\n",
            "# Trial 11\n",
            "# Trial 12\n",
            "# Trial 13\n",
            "# Trial 14\n",
            "# Trial 15\n",
            "# Trial 16\n",
            "# Trial 17\n",
            "# Trial 18\n",
            "# Trial 19\n",
            "\n",
            "Avg. validation accuracy:0.8568374999999999\n",
            "Pytorch FC: dataset= 3class\n",
            "Loading X torch.Size([800, 2]) y torch.Size([800]) classes {0.0, 1.0, 2.0}\n",
            "Use split <torch.utils.data.dataloader.DataLoader object at 0x7f216311e630>\n",
            "Using validation split\n",
            "train_size 400 val_size 400\n",
            "Loading train X torch.Size([400, 2]) y torch.Size([400]) classes {0.0, 1.0, 2.0}\n",
            "Loading val X torch.Size([400, 2]) y torch.Size([400]) classes {0.0, 1.0, 2.0}\n",
            "# Trial 0\n",
            "# Trial 1\n",
            "# Trial 2\n",
            "# Trial 3\n",
            "# Trial 4\n",
            "# Trial 5\n",
            "# Trial 6\n",
            "# Trial 7\n",
            "# Trial 8\n",
            "# Trial 9\n",
            "# Trial 10\n",
            "# Trial 11\n",
            "# Trial 12\n",
            "# Trial 13\n",
            "# Trial 14\n",
            "# Trial 15\n",
            "# Trial 16\n",
            "# Trial 17\n",
            "# Trial 18\n",
            "# Trial 19\n",
            "\n",
            "Avg. validation accuracy:0.6229250000000001\n",
            "Pytorch FC: dataset= 3class\n",
            "Loading X torch.Size([800, 2]) y torch.Size([800]) classes {0.0, 1.0, 2.0}\n",
            "Use split <torch.utils.data.dataloader.DataLoader object at 0x7f216311ee10>\n",
            "Using validation split\n",
            "train_size 400 val_size 400\n",
            "Loading train X torch.Size([400, 2]) y torch.Size([400]) classes {0.0, 1.0, 2.0}\n",
            "Loading val X torch.Size([400, 2]) y torch.Size([400]) classes {0.0, 1.0, 2.0}\n",
            "# Trial 0\n",
            "# Trial 1\n",
            "# Trial 2\n",
            "# Trial 3\n",
            "# Trial 4\n",
            "# Trial 5\n",
            "# Trial 6\n",
            "# Trial 7\n",
            "# Trial 8\n",
            "# Trial 9\n",
            "# Trial 10\n",
            "# Trial 11\n",
            "# Trial 12\n",
            "# Trial 13\n",
            "# Trial 14\n",
            "# Trial 15\n",
            "# Trial 16\n",
            "# Trial 17\n",
            "# Trial 18\n",
            "# Trial 19\n",
            "\n",
            "Avg. validation accuracy:0.9122625000000001\n"
          ],
          "name": "stdout"
        }
      ]
    },
    {
      "cell_type": "markdown",
      "metadata": {
        "id": "YUbidWYsqmDl",
        "colab_type": "text"
      },
      "source": [
        "## 3G)"
      ]
    },
    {
      "cell_type": "code",
      "metadata": {
        "id": "YvqJbk8dqk_o",
        "colab_type": "code",
        "colab": {
          "base_uri": "https://localhost:8080/",
          "height": 204
        },
        "outputId": "0af6bfb7-ff31-4cbc-90d4-edc1a6c36fd9"
      },
      "source": [
        "points = np.array([[-1,0], [1,0], [0,-11], [0,1], [-1,-1], [-1,1], [1,1], [1,-1]])\n",
        "\n",
        "deterministic = True\n",
        "if deterministic:\n",
        "  torch.manual_seed(10)\n",
        "  torch.backends.cudnn.deterministic = True\n",
        "  torch.backends.cudnn.benchmark = False\n",
        "  np.random.seed(10)\n",
        "\n",
        "\"\"\"\n",
        "HERE YOUR CODE!!\n",
        "\"\"\"\n",
        "arc3 = archs(3)[0]\n",
        "\n",
        "run_pytorch_2d(data_name='3class', layers=arc3, epochs=10, trials=1, display=False, verbose=False, split=0.5);\n",
        "W = arc3[0].weight.data.numpy()\n",
        "W0 = arc3[0].bias.data.numpy()\n",
        "\n",
        "z = W@points.T + np.array([W0]).T\n",
        "\n",
        "np.argmax(z, axis=0)\n"
      ],
      "execution_count": 59,
      "outputs": [
        {
          "output_type": "stream",
          "text": [
            "Pytorch FC: dataset= 3class\n",
            "Loading X torch.Size([800, 2]) y torch.Size([800]) classes {0.0, 1.0, 2.0}\n",
            "Use split <torch.utils.data.dataloader.DataLoader object at 0x7f216309ce10>\n",
            "Using validation split\n",
            "train_size 400 val_size 400\n",
            "Loading train X torch.Size([400, 2]) y torch.Size([400]) classes {0.0, 1.0, 2.0}\n",
            "Loading val X torch.Size([400, 2]) y torch.Size([400]) classes {0.0, 1.0, 2.0}\n",
            "# Trial 0\n",
            "\n",
            "Avg. validation accuracy:0.46875\n"
          ],
          "name": "stdout"
        },
        {
          "output_type": "execute_result",
          "data": {
            "text/plain": [
              "array([1, 1, 0, 2, 0, 2, 2, 1])"
            ]
          },
          "metadata": {
            "tags": []
          },
          "execution_count": 59
        }
      ]
    },
    {
      "cell_type": "markdown",
      "metadata": {
        "id": "wnjuKTJXExBZ",
        "colab_type": "text"
      },
      "source": [
        "# Playground"
      ]
    },
    {
      "cell_type": "code",
      "metadata": {
        "id": "rS_q9fYj8uyI",
        "colab_type": "code",
        "colab": {}
      },
      "source": [
        "_ = run_pytorch_2d(\"2\", archs(2)[4], 120, display=True, verbose=False, trials=1)"
      ],
      "execution_count": 0,
      "outputs": []
    },
    {
      "cell_type": "code",
      "metadata": {
        "id": "071X-ooS8uvA",
        "colab_type": "code",
        "colab": {}
      },
      "source": [
        "_ = run_pytorch_2d(\"3class\",archs(3)[2], 10, split=.5, display=False, verbose=False, trials=20)"
      ],
      "execution_count": 0,
      "outputs": []
    }
  ]
}